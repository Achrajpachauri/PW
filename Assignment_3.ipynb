{
  "cells": [
    {
      "cell_type": "markdown",
      "metadata": {
        "id": "view-in-github",
        "colab_type": "text"
      },
      "source": [
        "<a href=\"https://colab.research.google.com/github/Achrajpachauri/PW/blob/main/Assignment_3.ipynb\" target=\"_parent\"><img src=\"https://colab.research.google.com/assets/colab-badge.svg\" alt=\"Open In Colab\"/></a>"
      ]
    },
    {
      "cell_type": "code",
      "execution_count": null,
      "id": "4cd13e12",
      "metadata": {
        "id": "4cd13e12"
      },
      "outputs": [],
      "source": [
        "Q1. Which keyword is used to create a function? Create a function to return a list of odd numbers in the\n",
        "range of 1 to 25."
      ]
    },
    {
      "cell_type": "code",
      "execution_count": null,
      "id": "24fe0509",
      "metadata": {
        "id": "24fe0509",
        "outputId": "313b4db5-299e-40ad-8687-0b6c0b71679c"
      },
      "outputs": [
        {
          "name": "stdout",
          "output_type": "stream",
          "text": [
            "[1, 3, 5, 7, 9, 11, 13, 15, 17, 19, 21, 23]\n"
          ]
        }
      ],
      "source": [
        "# Answer - 'def' Keyword is used to create function\n",
        "\n",
        "def odd():\n",
        "    odd_list = []\n",
        "    for i in range(1,25):\n",
        "        if i%2==1:\n",
        "            odd_list.append(i)\n",
        "\n",
        "    return odd_list\n",
        "\n",
        "\n",
        "result = odd()\n",
        "print(result)"
      ]
    },
    {
      "cell_type": "code",
      "execution_count": null,
      "id": "3ccde65d",
      "metadata": {
        "id": "3ccde65d"
      },
      "outputs": [],
      "source": [
        "Q2. Why *args and **kwargs is used in some functions? Create a function each for *args and **kwargs\n",
        "to demonstrate their use."
      ]
    },
    {
      "cell_type": "code",
      "execution_count": null,
      "id": "ffa4704e",
      "metadata": {
        "id": "ffa4704e"
      },
      "outputs": [],
      "source": [
        "Answer- In Python, you can send a function a variable number of arguments using the *args and **kwargs syntax.\n",
        "This can be helpful if you don't know in advance how many arguments will be passed.\n",
        "\n",
        "Example- def my_fun(*args):\n",
        "    for arg in args:\n",
        "        print(arg)\n",
        "\n",
        "my_fun('Toyota', 'Maruti', 'Hyundai')\n",
        "\n",
        "# **kwargs\n",
        "\n",
        "def my_function(**kwargs):    #These arguments are collected into a dictionary within the function\n",
        "    for key, value in kwargs.items():\n",
        "        print(key, value)\n",
        "\n",
        "my_function(fruit='Toyota', color='red', price=1000000)"
      ]
    },
    {
      "cell_type": "code",
      "execution_count": null,
      "id": "bcb869fa",
      "metadata": {
        "id": "bcb869fa"
      },
      "outputs": [],
      "source": [
        "Q3. What is an iterator in python? Name the method used to initialise the iterator object and the method\n",
        "used for iteration. Use these methods to print the first five elements of the given list [2, 4, 6, 8, 10, 12, 14,\n",
        "16, 18, 20]."
      ]
    },
    {
      "cell_type": "code",
      "execution_count": null,
      "id": "f3642978",
      "metadata": {
        "id": "f3642978",
        "outputId": "45a4424b-be58-4aff-f193-4c5276821df2"
      },
      "outputs": [
        {
          "name": "stdout",
          "output_type": "stream",
          "text": [
            "2\n",
            "4\n",
            "6\n",
            "8\n",
            "10\n"
          ]
        }
      ],
      "source": [
        "An object in Python that implements the iterator protocol, which consists of the __iter__ and __next__ methods, is known as an iterator.\n",
        "Lists, tuples, dictionaries, and custom objects are examples of elements in a sequence or collection that can be iterated over using iterators.\n",
        "\n",
        "mlist = [2, 4, 6, 8, 10, 12, 14, 16, 18, 20]\n",
        "miterator = iter(mlist)\n",
        "\n",
        "for _ in range(5):\n",
        "    e = next(miterator)\n",
        "    print(e)\n"
      ]
    },
    {
      "cell_type": "code",
      "execution_count": null,
      "id": "7a928173",
      "metadata": {
        "id": "7a928173"
      },
      "outputs": [],
      "source": [
        "Q4. What is a generator function in python? Why yield keyword is used? Give an example of a generator\n",
        "function."
      ]
    },
    {
      "cell_type": "code",
      "execution_count": null,
      "id": "baa9742a",
      "metadata": {
        "id": "baa9742a"
      },
      "outputs": [],
      "source": [
        "A generator function in Python is a unique kind of function that generates a series of values as opposed to returning only one, like a conventional function would.\n",
        "It makes it easier and more productive for you to develop iterators.\n",
        "\n",
        "In a generator function, the yield keyword is used to specify the points at which the function will halt and return a value.\n",
        "When a yield statement is encountered, the function halts its operation and returns the value to the caller.\n",
        "\n",
        "def fibonacci_gen():\n",
        "    a, b = 0, 1\n",
        "    while True:\n",
        "        yield a\n",
        "        a, b = b, a + b\n",
        "\n",
        "# Create a generator object\n",
        "fib = fibonacci_gen()\n",
        "\n",
        "# Generate and print the first 10 Fibonacci numbers\n",
        "for _ in range(5):\n",
        "    print(next(fib))\n"
      ]
    },
    {
      "cell_type": "code",
      "execution_count": null,
      "id": "ae5a439f",
      "metadata": {
        "id": "ae5a439f"
      },
      "outputs": [],
      "source": [
        "Q5. Create a generator function for prime numbers less than 1000. Use the next() method to print the\n",
        "first 20 prime numbers."
      ]
    },
    {
      "cell_type": "code",
      "execution_count": null,
      "id": "35dba76c",
      "metadata": {
        "id": "35dba76c",
        "outputId": "e09d1695-a6b0-4804-94f0-c8792d4861b2"
      },
      "outputs": [
        {
          "name": "stdout",
          "output_type": "stream",
          "text": [
            "2\n",
            "3\n",
            "5\n",
            "7\n",
            "11\n",
            "13\n",
            "17\n",
            "19\n",
            "23\n",
            "29\n",
            "31\n",
            "37\n",
            "41\n",
            "43\n",
            "47\n",
            "53\n",
            "59\n",
            "61\n",
            "67\n",
            "71\n"
          ]
        }
      ],
      "source": [
        "def prime_gene():\n",
        "    primes = []\n",
        "    num = 2\n",
        "    while True:\n",
        "        if all(num % prime != 0 for prime in primes):\n",
        "            primes.append(num)\n",
        "            yield num\n",
        "        num += 1\n",
        "\n",
        "# Create a generator object\n",
        "prime_gen = prime_gene()\n",
        "\n",
        "# Print the first 20 prime numbers\n",
        "for _ in range(20):\n",
        "    print(next(prime_gen))"
      ]
    },
    {
      "cell_type": "code",
      "execution_count": null,
      "id": "6442ee87",
      "metadata": {
        "id": "6442ee87"
      },
      "outputs": [],
      "source": [
        "Q6. Write a python program to print the first 10 Fibonacci numbers using a while loop."
      ]
    },
    {
      "cell_type": "code",
      "execution_count": null,
      "id": "c3c16a07",
      "metadata": {
        "id": "c3c16a07",
        "outputId": "b1459154-760b-495a-fea0-a465f01bb9a6"
      },
      "outputs": [
        {
          "name": "stdout",
          "output_type": "stream",
          "text": [
            "0\n",
            "1\n",
            "1\n",
            "2\n",
            "3\n",
            "5\n",
            "8\n",
            "13\n",
            "21\n",
            "34\n"
          ]
        }
      ],
      "source": [
        "def fibonacci_gen():\n",
        "    a, b = 0, 1\n",
        "    while True:\n",
        "        yield a\n",
        "        a, b = b, a + b\n",
        "\n",
        "# Create a generator object\n",
        "fib = fibonacci_gen()\n",
        "\n",
        "# Generate and print the first 10 Fibonacci numbers\n",
        "for _ in range(10):\n",
        "    print(next(fib))"
      ]
    },
    {
      "cell_type": "code",
      "execution_count": null,
      "id": "eef63cf6",
      "metadata": {
        "id": "eef63cf6"
      },
      "outputs": [],
      "source": [
        "Q7. Write a List Comprehension to iterate through the given string: ‘pwskills’.\n",
        "Expected output: ['p', 'w', 's', 'k', 'i', 'l', 'l', 's']"
      ]
    },
    {
      "cell_type": "code",
      "execution_count": null,
      "id": "9cadf848",
      "metadata": {
        "id": "9cadf848",
        "outputId": "94eb32cd-8253-45ab-bbab-258d8db6fdb0"
      },
      "outputs": [
        {
          "name": "stdout",
          "output_type": "stream",
          "text": [
            "['p', 'w', 's', 'k', 'i', 'l', 'l', 's']\n"
          ]
        }
      ],
      "source": [
        "s = 'pwskills'\n",
        "l = [i for i in s]\n",
        "print(l)\n",
        ""
      ]
    },
    {
      "cell_type": "code",
      "execution_count": null,
      "id": "91910da2",
      "metadata": {
        "id": "91910da2"
      },
      "outputs": [],
      "source": [
        "Q8. Write a python program to check whether a given number is Palindrome or not using a while loop."
      ]
    },
    {
      "cell_type": "code",
      "execution_count": null,
      "id": "44d9a243",
      "metadata": {
        "id": "44d9a243",
        "outputId": "db187941-ad6f-4f1c-8111-3168aaf81cec"
      },
      "outputs": [
        {
          "name": "stdout",
          "output_type": "stream",
          "text": [
            "Enter the number439\n",
            "Not palindrome\n"
          ]
        }
      ],
      "source": [
        "number = int(input(\"Enter the number\"))\n",
        "n = str(number)\n",
        "rev = str(n[::-1])\n",
        "\n",
        "if rev == n:\n",
        "    print(\"palindrome\")\n",
        "else:\n",
        "    print(\"Not palindrome\")"
      ]
    },
    {
      "cell_type": "code",
      "execution_count": null,
      "id": "549dc8dc",
      "metadata": {
        "id": "549dc8dc"
      },
      "outputs": [],
      "source": [
        "Q9. Write a code to print odd numbers from 1 to 100 using list comprehension."
      ]
    },
    {
      "cell_type": "code",
      "execution_count": null,
      "id": "a93d01a2",
      "metadata": {
        "id": "a93d01a2",
        "outputId": "ab8fb8c0-084b-439c-d138-c6015f6befa3"
      },
      "outputs": [
        {
          "name": "stdout",
          "output_type": "stream",
          "text": [
            "[1, 3, 5, 7, 9, 11, 13, 15, 17, 19, 21, 23, 25, 27, 29, 31, 33, 35, 37, 39, 41, 43, 45, 47, 49, 51, 53, 55, 57, 59, 61, 63, 65, 67, 69, 71, 73, 75, 77, 79, 81, 83, 85, 87, 89, 91, 93, 95, 97, 99]\n"
          ]
        }
      ],
      "source": [
        "l = []\n",
        "l =[i for i in range(1,101) if i%2==1]\n",
        "print(l)"
      ]
    },
    {
      "cell_type": "code",
      "execution_count": null,
      "id": "4fabc419",
      "metadata": {
        "id": "4fabc419"
      },
      "outputs": [],
      "source": []
    }
  ],
  "metadata": {
    "kernelspec": {
      "display_name": "Python 3 (ipykernel)",
      "language": "python",
      "name": "python3"
    },
    "language_info": {
      "codemirror_mode": {
        "name": "ipython",
        "version": 3
      },
      "file_extension": ".py",
      "mimetype": "text/x-python",
      "name": "python",
      "nbconvert_exporter": "python",
      "pygments_lexer": "ipython3",
      "version": "3.9.16"
    },
    "colab": {
      "provenance": [],
      "include_colab_link": true
    }
  },
  "nbformat": 4,
  "nbformat_minor": 5
}