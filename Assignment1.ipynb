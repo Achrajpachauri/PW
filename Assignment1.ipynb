{
 "cells": [
  {
   "cell_type": "raw",
   "id": "0bf14dbc",
   "metadata": {},
   "source": [
    "Q1. Create one variable containing following type of data:\n",
    "(i) string\n",
    "(ii) list\n",
    "(iii) float\n",
    "(iv) tuple"
   ]
  },
  {
   "cell_type": "code",
   "execution_count": 5,
   "id": "4ecdcd75",
   "metadata": {},
   "outputs": [],
   "source": [
    "# Creating the Variables\n",
    "\n",
    "# string\n",
    "\n",
    "# You can use either ''(single) or \"\"(Double Quotes)\n",
    "\n",
    "S =  \"Hello Physics Wallah Thanks for the Cource\" \n",
    "\n",
    "s = 'Hello Physics Wallah Thanks for the Cource'\n",
    "\n",
    "# List \n",
    "\n",
    "L = ['a',45,[1,2,3],(1,2),2.2]   # This code contains a list of all the different kind of data types of variables\n",
    "\n",
    "# Float\n",
    "\n",
    "F = 4.5 \n",
    "\n",
    "# tuple\n",
    "\n",
    "T = (2,3)\n"
   ]
  },
  {
   "cell_type": "raw",
   "id": "afd0157e",
   "metadata": {
    "scrolled": true
   },
   "source": [
    "Q2. Given are some following variables containing data:\n",
    "(i) var1 = ‘ ‘\n",
    "(ii) var2 = ‘[ DS , ML , Python]’\n",
    "(iii) var3 = [ ‘DS’ , ’ML’ , ‘Python’ ]\n",
    "(iv) var4 = 1.\n",
    "\n",
    "What will be the data type of the above given variable."
   ]
  },
  {
   "cell_type": "raw",
   "id": "8bc8615c",
   "metadata": {},
   "source": [
    "Answer-\n",
    "1- String\n",
    "2- String \n",
    "3- List\n",
    "4-Integer"
   ]
  },
  {
   "cell_type": "raw",
   "id": "45e99834",
   "metadata": {},
   "source": [
    "# Q3. Explain the use of the following operators using an example:\n",
    "(i) /\n",
    "(ii) %\n",
    "(iii) //\n",
    "(iv) **"
   ]
  },
  {
   "cell_type": "raw",
   "id": "c7dddc6b",
   "metadata": {},
   "source": [
    "(i) / \n",
    "\n",
    "# This is division operator used to perform mathematical operation on the data stored in variable\n",
    "# This operation should be performed between integers or Float datatype variable(Not on string it will throw error)\n",
    "# This operator can be used on list datatype as well.\n",
    "# After division the result will show upto one decimal places Ex- 10/10 results 1.0\n",
    "\n",
    "(ii) %\n",
    "\n",
    "# This operator known as \"Modulus\". Used to find out the reminder when we divide one number to another.\n",
    "\n",
    "example - 10%2=0  ,10%3=1\n",
    "\n",
    "(iii) // \n",
    "\n",
    "#This Floor Division used to perform divide operation between variable values and store result in integer form\n",
    "ex- 15//5 = 3\n",
    "\n",
    "(iv) **\n",
    "\n",
    "# This operator used to perform mathmatical operation named as power or exponential.\n",
    "\n",
    "Example - 2**3 = 8\n",
    "5**2 = 25\n",
    "\n"
   ]
  },
  {
   "cell_type": "raw",
   "id": "ffc1603b",
   "metadata": {},
   "source": [
    "Q4. Create a list of length 10 of your choice containing multiple types of data. Using for loop print the\n",
    "element and its data type."
   ]
  },
  {
   "cell_type": "code",
   "execution_count": 4,
   "id": "4c2c6f3a",
   "metadata": {},
   "outputs": [
    {
     "name": "stdout",
     "output_type": "stream",
     "text": [
      "element= 10\n",
      "Datatype= <class 'int'>\n",
      "element= 10\n",
      "Datatype= <class 'str'>\n",
      "element= 10.0\n",
      "Datatype= <class 'float'>\n",
      "element= [1, 2]\n",
      "Datatype= <class 'list'>\n",
      "element= (1, 2)\n",
      "Datatype= <class 'tuple'>\n",
      "element= (2+5j)\n",
      "Datatype= <class 'complex'>\n",
      "element= 45\n",
      "Datatype= <class 'int'>\n",
      "element= hello\n",
      "Datatype= <class 'str'>\n",
      "element= (7, 4)\n",
      "Datatype= <class 'tuple'>\n",
      "element= {'model': 'Apple'}\n",
      "Datatype= <class 'dict'>\n"
     ]
    }
   ],
   "source": [
    "My_List = [10,'10',10.0,[1,2],(1,2),(2+5j),45,\"hello\", (7,4),{\"model\":\"Apple\"}]\n",
    "\n",
    "# This list contains multiple type of datatype string, Integer, Float, tuple , list , Dictionary and Complex \n",
    "\n",
    "for i in My_List:\n",
    "    print(\"element= \" + str(i))     # print element Value\n",
    "    print(\"Datatype= \" + str(type((i))))   # print Datatype\n"
   ]
  },
  {
   "cell_type": "raw",
   "id": "8047d4d8",
   "metadata": {},
   "source": [
    "Q5. Using a while loop, verify if the number A is purely divisible by number B and if so then how many\n",
    "times it can be divisible."
   ]
  },
  {
   "cell_type": "code",
   "execution_count": 38,
   "id": "bade7406",
   "metadata": {},
   "outputs": [
    {
     "name": "stdout",
     "output_type": "stream",
     "text": [
      "Enter the Value of A: 12\n",
      "Enter the Value of B: 4\n",
      "Divisible\n",
      "3\n"
     ]
    }
   ],
   "source": [
    "#Please Enter only positive integer numbers as input else it will throw error\n",
    "\n",
    "A = int(input(\"Enter the Value of A: \"))\n",
    "B = int(input(\"Enter the Value of B: \"))\n",
    "\n",
    "# Check if divisible or not\n",
    "\n",
    "result = A%B \n",
    "\n",
    "while(A%B):    # use MOD operator to verify its divisible or not\n",
    "    print(\"Not divisible\")\n",
    "    break\n",
    "             \n",
    "else:   \n",
    "    print(\"Divisible\")\n",
    "    print(A//B)  # Find number of times it can be divisible using floor division operator \n",
    "\n",
    "\n"
   ]
  },
  {
   "cell_type": "raw",
   "id": "7ce34fb1",
   "metadata": {},
   "source": [
    "Q6. Create a list containing 25 int type data. Using for loop and if-else condition print if the element is\n",
    "divisible by 3 or not."
   ]
  },
  {
   "cell_type": "code",
   "execution_count": 30,
   "id": "8ecdb041",
   "metadata": {},
   "outputs": [
    {
     "name": "stdout",
     "output_type": "stream",
     "text": [
      "23 is Not Divisible by 3\n",
      "45 is Divisble by 3\n",
      "24 is Divisble by 3\n",
      "98 is Not Divisible by 3\n",
      "54 is Divisble by 3\n",
      "24 is Divisble by 3\n",
      "75 is Divisble by 3\n",
      "46 is Not Divisible by 3\n",
      "87 is Divisble by 3\n",
      "16 is Not Divisible by 3\n",
      "73 is Not Divisible by 3\n",
      "76 is Not Divisible by 3\n",
      "12 is Divisble by 3\n",
      "4 is Not Divisible by 3\n",
      "6 is Divisble by 3\n",
      "8 is Not Divisible by 3\n",
      "3 is Divisble by 3\n",
      "6 is Divisble by 3\n",
      "8 is Not Divisible by 3\n",
      "12 is Divisble by 3\n",
      "7 is Not Divisible by 3\n",
      "38 is Not Divisible by 3\n",
      "65 is Not Divisible by 3\n",
      "27 is Divisble by 3\n",
      "61 is Not Divisible by 3\n"
     ]
    }
   ],
   "source": [
    "My_list = [23,45,24,98,54,24,75,46,87,16,73,76,12,4,6,8,3,6,8,12,7,38,65,27,61] # Declare list of 25 integer elements\n",
    "\n",
    "for i in My_list:               # Loop through Each list \n",
    "    if i%3==0:                  # Check divisible or not\n",
    "        print(str(i) +\" is Divisble by 3\")\n",
    "    else:\n",
    "        print(str(i) +\" is Not Divisible by 3\")"
   ]
  },
  {
   "cell_type": "raw",
   "id": "d4979366",
   "metadata": {},
   "source": [
    "Q7. What do you understand about mutable and immutable data types? Give examples for both showing\n",
    "this property."
   ]
  },
  {
   "cell_type": "raw",
   "id": "e2570309",
   "metadata": {},
   "source": [
    "Mutable Datatypes are those datatype which can be altered after its created.\n",
    "Example - List, Dictionary or Set\n",
    "\n",
    "Code-\n",
    "\n",
    "List = ['1',7,8]\n",
    "\n",
    "List[2] = 0\n",
    "\n",
    "Print(List) # ['1',7,0]\n",
    "\n",
    "Above code represents that as list is mutable datatype so we can access and alter the value of perticular location.\n",
    "\n",
    "Immutable Datatypes are those which can not be changed after its created. Only we can override it with the new Value.\n",
    "Example - Int , Float , Bool, String and Tuple\n",
    "\n",
    "str = \"abc\"\n",
    "\n",
    "str[2] = \"d\" # Show error - 'str' object does not support item assignment\n"
   ]
  }
 ],
 "metadata": {
  "kernelspec": {
   "display_name": "Python 3 (ipykernel)",
   "language": "python",
   "name": "python3"
  },
  "language_info": {
   "codemirror_mode": {
    "name": "ipython",
    "version": 3
   },
   "file_extension": ".py",
   "mimetype": "text/x-python",
   "name": "python",
   "nbconvert_exporter": "python",
   "pygments_lexer": "ipython3",
   "version": "3.9.16"
  }
 },
 "nbformat": 4,
 "nbformat_minor": 5
}
