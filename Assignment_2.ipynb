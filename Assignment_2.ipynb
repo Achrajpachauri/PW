{
  "cells": [
    {
      "cell_type": "markdown",
      "metadata": {
        "id": "view-in-github",
        "colab_type": "text"
      },
      "source": [
        "<a href=\"https://colab.research.google.com/github/Achrajpachauri/PW/blob/main/Assignment_2.ipynb\" target=\"_parent\"><img src=\"https://colab.research.google.com/assets/colab-badge.svg\" alt=\"Open In Colab\"/></a>"
      ]
    },
    {
      "cell_type": "code",
      "execution_count": null,
      "id": "c65d3d78",
      "metadata": {
        "id": "c65d3d78"
      },
      "outputs": [],
      "source": [
        "Q1. How do you comment code in Python? What are the different types of comments?"
      ]
    },
    {
      "cell_type": "code",
      "execution_count": null,
      "id": "9956cdb6",
      "metadata": {
        "id": "9956cdb6"
      },
      "outputs": [],
      "source": [
        "Answer -\n",
        "\n",
        "Python offers a variety of comments kinds that can be used to explain code and give documentation. The most typical categories of comments in Python are as follows:\n",
        "\n",
        "Types of comment-\n",
        "single line Comment # Using \"#\"\n",
        "Multiline comments # Using   \"\"\"\n",
        "inline Comment\n",
        "Comment out Code"
      ]
    },
    {
      "cell_type": "code",
      "execution_count": null,
      "id": "d4568c23",
      "metadata": {
        "id": "d4568c23"
      },
      "outputs": [],
      "source": [
        "Q2. What are variables in Python? How do you declare and assign values to variables?"
      ]
    },
    {
      "cell_type": "code",
      "execution_count": null,
      "id": "404161a1",
      "metadata": {
        "id": "404161a1"
      },
      "outputs": [],
      "source": [
        "Answer- The variable in python are used to store the different type of data like string, float ,Integer , Complex etc.\n",
        "\n",
        "Declaration -\n",
        "int a   # declation just create a space in memory with variable name\n",
        "\n",
        "Assign -\n",
        "a = 45    # the value 45 is assign to varibale 'a'"
      ]
    },
    {
      "cell_type": "code",
      "execution_count": null,
      "id": "ef20dfde",
      "metadata": {
        "id": "ef20dfde"
      },
      "outputs": [],
      "source": [
        "Q3. How do you convert one data type to another in Python?"
      ]
    },
    {
      "cell_type": "code",
      "execution_count": null,
      "id": "fc027663",
      "metadata": {
        "id": "fc027663"
      },
      "outputs": [],
      "source": [
        "Answer - We can use type casting to convert one data type to another.\n",
        "Example -\n",
        "a = '5' # a is string\n",
        "b = int(a)*5 # now using int(variable) string converts to string\n",
        "print(b) = 25"
      ]
    },
    {
      "cell_type": "code",
      "execution_count": null,
      "id": "ed653ee1",
      "metadata": {
        "id": "ed653ee1"
      },
      "outputs": [],
      "source": [
        "Q4. How do you write and execute a Python script from the command line?"
      ]
    },
    {
      "cell_type": "code",
      "execution_count": null,
      "id": "7050b046",
      "metadata": {
        "id": "7050b046"
      },
      "outputs": [],
      "source": [
        "Answer -\n",
        "\n",
        "To write a script we can use notepad or Notepad++ and save the file with .py extension\n",
        "\n",
        "\n",
        "To run Python script through command line we need to open terminal and type in given below manner.\n",
        "\n",
        "-Python scriptname.py  # please give the full path of file if you are working on different directory\n",
        "\n",
        "for example - name of file is first.py\n",
        "\n",
        "Then to run the code we need to type Python first.py and click Enter(This will run the script)"
      ]
    },
    {
      "cell_type": "code",
      "execution_count": null,
      "id": "4fc67107",
      "metadata": {
        "id": "4fc67107"
      },
      "outputs": [],
      "source": [
        "Q5. Given a list my_list = [1, 2, 3, 4, 5], write the code to slice the list and obtain the sub-list [2, 3]."
      ]
    },
    {
      "cell_type": "code",
      "execution_count": null,
      "id": "768fa5cc",
      "metadata": {
        "id": "768fa5cc",
        "outputId": "e1ace02f-e0f5-4801-aac9-14280ff4ac6e"
      },
      "outputs": [
        {
          "name": "stdout",
          "output_type": "stream",
          "text": [
            "[2, 3]\n"
          ]
        }
      ],
      "source": [
        "my_list = [1, 2, 3, 4, 5]\n",
        "\n",
        "res_list = my_list[1:3]\n",
        "\n",
        "print(res_list)"
      ]
    },
    {
      "cell_type": "code",
      "execution_count": null,
      "id": "a39ef8f8",
      "metadata": {
        "id": "a39ef8f8"
      },
      "outputs": [],
      "source": [
        "Q6. What is a complex number in mathematics, and how is it represented in Python?"
      ]
    },
    {
      "cell_type": "code",
      "execution_count": null,
      "id": "d2d9f0cc",
      "metadata": {
        "id": "d2d9f0cc"
      },
      "outputs": [],
      "source": [
        "A complex number in mathematics is a number that has both a real and an imaginary component.\n",
        "It is expressed as a + bi, where a stands for the real part, b for the imaginary part, and i for the imaginary unit (√-1)\n",
        "\n",
        "The complex data type in Python is used to represent complex numbers.\n",
        "The suffix j or J is used to indicate the imaginary portion. Here are a few illustrations:\n",
        "c = 2+5j\n",
        "z3 = complex(1, -2)"
      ]
    },
    {
      "cell_type": "code",
      "execution_count": null,
      "id": "10d41a7f",
      "metadata": {
        "id": "10d41a7f"
      },
      "outputs": [],
      "source": [
        "Q7. What is the correct way to declare a variable named age and assign the value 25 to it?"
      ]
    },
    {
      "cell_type": "code",
      "execution_count": null,
      "id": "c056f047",
      "metadata": {
        "id": "c056f047"
      },
      "outputs": [],
      "source": [
        "int age  # Declare a Variable\n",
        "age = 25 # integer variable with name age created and assign it with integer value 25"
      ]
    },
    {
      "cell_type": "code",
      "execution_count": null,
      "id": "c048fc15",
      "metadata": {
        "id": "c048fc15"
      },
      "outputs": [],
      "source": [
        "Q8. Declare a variable named price and assign the value 9.99 to it. What data type does this variable\n",
        "belong to?"
      ]
    },
    {
      "cell_type": "code",
      "execution_count": null,
      "id": "193804c9",
      "metadata": {
        "id": "193804c9"
      },
      "outputs": [],
      "source": [
        "float price  # Declare a float Variable\n",
        "price = 9.99 # float variable with name price created and assign it with float value 9.99"
      ]
    },
    {
      "cell_type": "code",
      "execution_count": null,
      "id": "a86d7f23",
      "metadata": {
        "id": "a86d7f23"
      },
      "outputs": [],
      "source": [
        "Q9. Create a variable named name and assign your full name to it as a string. How would you print the\n",
        "value of this variable?"
      ]
    },
    {
      "cell_type": "code",
      "execution_count": null,
      "id": "6252da2d",
      "metadata": {
        "id": "6252da2d",
        "outputId": "b6c86b8e-8ebe-44dd-9457-91eb567b6eb5"
      },
      "outputs": [
        {
          "name": "stdout",
          "output_type": "stream",
          "text": [
            "Achraj Pachauri\n"
          ]
        }
      ],
      "source": [
        "name = 'Achraj Pachauri' # Sting variable with name 'name' created and assign it with my name string\n",
        "print(name) # using print we can print any variable"
      ]
    },
    {
      "cell_type": "code",
      "execution_count": null,
      "id": "0c035036",
      "metadata": {
        "id": "0c035036"
      },
      "outputs": [],
      "source": [
        "Q10. Given the string \"Hello, World!\", extract the substring \"World\"."
      ]
    },
    {
      "cell_type": "code",
      "execution_count": null,
      "id": "78ec18ab",
      "metadata": {
        "id": "78ec18ab",
        "outputId": "7ef8c40b-177e-4f58-b4b7-edfdbb1dc3d7"
      },
      "outputs": [
        {
          "name": "stdout",
          "output_type": "stream",
          "text": [
            "World\n"
          ]
        }
      ],
      "source": [
        "string = \"Hello, World!\"\n",
        "\n",
        "sub_string = string[7:12]\n",
        "print(sub_string)"
      ]
    },
    {
      "cell_type": "code",
      "execution_count": null,
      "id": "15e5d0e1",
      "metadata": {
        "id": "15e5d0e1"
      },
      "outputs": [],
      "source": [
        "Q11. Create a variable named \"is_student\" and assign it a boolean value indicating whether you are\n",
        "currently a student or not."
      ]
    },
    {
      "cell_type": "code",
      "execution_count": null,
      "id": "06f0fb97",
      "metadata": {
        "id": "06f0fb97",
        "outputId": "5500bbef-f517-4645-c6d0-05a271dc234a"
      },
      "outputs": [
        {
          "name": "stdout",
          "output_type": "stream",
          "text": [
            "Student\n"
          ]
        }
      ],
      "source": [
        "is_student = True # If we change the value to \"False\" it will print not student\n",
        "\n",
        "if is_student:\n",
        "    print(\"Student\")\n",
        "else:\n",
        "    print(\"Not student\")"
      ]
    },
    {
      "cell_type": "code",
      "execution_count": null,
      "id": "0f7ec8cc",
      "metadata": {
        "id": "0f7ec8cc"
      },
      "outputs": [],
      "source": []
    }
  ],
  "metadata": {
    "kernelspec": {
      "display_name": "Python 3 (ipykernel)",
      "language": "python",
      "name": "python3"
    },
    "language_info": {
      "codemirror_mode": {
        "name": "ipython",
        "version": 3
      },
      "file_extension": ".py",
      "mimetype": "text/x-python",
      "name": "python",
      "nbconvert_exporter": "python",
      "pygments_lexer": "ipython3",
      "version": "3.9.16"
    },
    "colab": {
      "provenance": [],
      "include_colab_link": true
    }
  },
  "nbformat": 4,
  "nbformat_minor": 5
}